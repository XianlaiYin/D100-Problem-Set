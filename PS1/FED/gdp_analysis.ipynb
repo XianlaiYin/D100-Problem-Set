{
 "cells": [
  {
   "cell_type": "code",
   "execution_count": 1,
   "metadata": {},
   "outputs": [
    {
     "name": "stdout",
     "output_type": "stream",
     "text": [
      "Error loading data: [Errno 2] No such file or directory: 'certain country gdp.csv'\n"
     ]
    },
    {
     "ename": "AttributeError",
     "evalue": "'NoneType' object has no attribute 'dropna'",
     "output_type": "error",
     "traceback": [
      "\u001b[0;31m---------------------------------------------------------------------------\u001b[0m",
      "\u001b[0;31mAttributeError\u001b[0m                            Traceback (most recent call last)",
      "Cell \u001b[0;32mIn[1], line 13\u001b[0m\n\u001b[1;32m     10\u001b[0m data \u001b[38;5;241m=\u001b[39m load_data(\u001b[38;5;124m'\u001b[39m\u001b[38;5;124mcertain country gdp.csv\u001b[39m\u001b[38;5;124m'\u001b[39m)\n\u001b[1;32m     12\u001b[0m \u001b[38;5;66;03m# 2. Clean Data\u001b[39;00m\n\u001b[0;32m---> 13\u001b[0m cleaned_data \u001b[38;5;241m=\u001b[39m clean_data(data)\n\u001b[1;32m     15\u001b[0m \u001b[38;5;66;03m# 3. Plot GDP Data for China (example)\u001b[39;00m\n\u001b[1;32m     16\u001b[0m plot_gdp(cleaned_data, \u001b[38;5;124m'\u001b[39m\u001b[38;5;124mChina\u001b[39m\u001b[38;5;124m'\u001b[39m, frequency\u001b[38;5;241m=\u001b[39m\u001b[38;5;124m'\u001b[39m\u001b[38;5;124myearly\u001b[39m\u001b[38;5;124m'\u001b[39m)\n",
      "File \u001b[0;32m~/Desktop/研/Term 1/D100 Fundamentals of Data Science/Problem Set/PS1/FED/data.py:24\u001b[0m, in \u001b[0;36mclean_data\u001b[0;34m(data)\u001b[0m\n\u001b[1;32m     18\u001b[0m \u001b[38;5;250m\u001b[39m\u001b[38;5;124;03m\"\"\"\u001b[39;00m\n\u001b[1;32m     19\u001b[0m \u001b[38;5;124;03mClean the GDP data.\u001b[39;00m\n\u001b[1;32m     20\u001b[0m \u001b[38;5;124;03m:param data: Raw DataFrame\u001b[39;00m\n\u001b[1;32m     21\u001b[0m \u001b[38;5;124;03m:return: Cleaned DataFrame\u001b[39;00m\n\u001b[1;32m     22\u001b[0m \u001b[38;5;124;03m\"\"\"\u001b[39;00m\n\u001b[1;32m     23\u001b[0m \u001b[38;5;66;03m# Remove rows with missing values\u001b[39;00m\n\u001b[0;32m---> 24\u001b[0m data \u001b[38;5;241m=\u001b[39m data\u001b[38;5;241m.\u001b[39mdropna()\n\u001b[1;32m     26\u001b[0m \u001b[38;5;66;03m# Rename columns for consistency (optional)\u001b[39;00m\n\u001b[1;32m     27\u001b[0m data\u001b[38;5;241m.\u001b[39mcolumns \u001b[38;5;241m=\u001b[39m [col\u001b[38;5;241m.\u001b[39mstrip()\u001b[38;5;241m.\u001b[39mlower()\u001b[38;5;241m.\u001b[39mreplace(\u001b[38;5;124m\"\u001b[39m\u001b[38;5;124m \u001b[39m\u001b[38;5;124m\"\u001b[39m, \u001b[38;5;124m\"\u001b[39m\u001b[38;5;124m_\u001b[39m\u001b[38;5;124m\"\u001b[39m) \u001b[38;5;28;01mfor\u001b[39;00m col \u001b[38;5;129;01min\u001b[39;00m data\u001b[38;5;241m.\u001b[39mcolumns]\n",
      "\u001b[0;31mAttributeError\u001b[0m: 'NoneType' object has no attribute 'dropna'"
     ]
    }
   ],
   "source": [
    "# Jupyter Notebook: gdp_analysis.ipynb\n",
    "\n",
    "import sys\n",
    "sys.path.append('/Users/shiyi/Desktop/研/Term 1/D100 Fundamentals of Data Science/Problem Set/PS1')\n",
    "\n",
    "from FED.data import load_data, clean_data\n",
    "from FED.plot_utils import plot_gdp\n",
    "\n",
    "# 1. Load Data\n",
    "data = load_data('certain country gdp.csv')\n",
    "\n",
    "# 2. Clean Data\n",
    "cleaned_data = clean_data(data)\n",
    "\n",
    "# 3. Plot GDP Data for China (example)\n",
    "plot_gdp(cleaned_data, 'China', frequency='yearly')\n"
   ]
  },
  {
   "cell_type": "code",
   "execution_count": 8,
   "metadata": {},
   "outputs": [
    {
     "name": "stdout",
     "output_type": "stream",
     "text": [
      "/Users/shiyi/Desktop/研/Term 1/D100 Fundamentals of Data Science/Problem Set/PS1/FED\n"
     ]
    }
   ],
   "source": [
    "import os\n",
    "print(os.getcwd())  # 打印当前工作目录\n"
   ]
  }
 ],
 "metadata": {
  "kernelspec": {
   "display_name": "base",
   "language": "python",
   "name": "python3"
  },
  "language_info": {
   "codemirror_mode": {
    "name": "ipython",
    "version": 3
   },
   "file_extension": ".py",
   "mimetype": "text/x-python",
   "name": "python",
   "nbconvert_exporter": "python",
   "pygments_lexer": "ipython3",
   "version": "3.12.4"
  }
 },
 "nbformat": 4,
 "nbformat_minor": 2
}
